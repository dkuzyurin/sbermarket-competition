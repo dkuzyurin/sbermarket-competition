{
 "cells": [
  {
   "cell_type": "code",
   "execution_count": 1,
   "metadata": {},
   "outputs": [],
   "source": [
    "import pandas as pd\n",
    "import numpy as np\n",
    "import matplotlib.pyplot as plt\n",
    "import seaborn as sns\n",
    "from tqdm import tqdm\n",
    "import time\n",
    "\n",
    "PATH = 'D:\\\\DA\\\\TestTasks\\\\SberMarket\\\\'\n",
    "SEED = 42"
   ]
  },
  {
   "cell_type": "markdown",
   "metadata": {},
   "source": [
    "# Чтение и анализ данных"
   ]
  },
  {
   "cell_type": "code",
   "execution_count": 2,
   "metadata": {},
   "outputs": [
    {
     "data": {
      "text/html": [
       "<div>\n",
       "<style scoped>\n",
       "    .dataframe tbody tr th:only-of-type {\n",
       "        vertical-align: middle;\n",
       "    }\n",
       "\n",
       "    .dataframe tbody tr th {\n",
       "        vertical-align: top;\n",
       "    }\n",
       "\n",
       "    .dataframe thead th {\n",
       "        text-align: right;\n",
       "    }\n",
       "</style>\n",
       "<table border=\"1\" class=\"dataframe\">\n",
       "  <thead>\n",
       "    <tr style=\"text-align: right;\">\n",
       "      <th></th>\n",
       "      <th>user_id</th>\n",
       "      <th>order_completed_at</th>\n",
       "      <th>cart</th>\n",
       "    </tr>\n",
       "  </thead>\n",
       "  <tbody>\n",
       "    <tr>\n",
       "      <th>0</th>\n",
       "      <td>2</td>\n",
       "      <td>2015-03-22 09:25:46</td>\n",
       "      <td>399</td>\n",
       "    </tr>\n",
       "    <tr>\n",
       "      <th>1</th>\n",
       "      <td>2</td>\n",
       "      <td>2015-03-22 09:25:46</td>\n",
       "      <td>14</td>\n",
       "    </tr>\n",
       "    <tr>\n",
       "      <th>2</th>\n",
       "      <td>2</td>\n",
       "      <td>2015-03-22 09:25:46</td>\n",
       "      <td>198</td>\n",
       "    </tr>\n",
       "    <tr>\n",
       "      <th>3</th>\n",
       "      <td>2</td>\n",
       "      <td>2015-03-22 09:25:46</td>\n",
       "      <td>88</td>\n",
       "    </tr>\n",
       "    <tr>\n",
       "      <th>4</th>\n",
       "      <td>2</td>\n",
       "      <td>2015-03-22 09:25:46</td>\n",
       "      <td>157</td>\n",
       "    </tr>\n",
       "    <tr>\n",
       "      <th>5</th>\n",
       "      <td>2</td>\n",
       "      <td>2015-03-22 09:25:46</td>\n",
       "      <td>82</td>\n",
       "    </tr>\n",
       "    <tr>\n",
       "      <th>6</th>\n",
       "      <td>2</td>\n",
       "      <td>2015-03-22 09:25:46</td>\n",
       "      <td>134</td>\n",
       "    </tr>\n",
       "    <tr>\n",
       "      <th>7</th>\n",
       "      <td>2</td>\n",
       "      <td>2015-03-22 09:25:46</td>\n",
       "      <td>16</td>\n",
       "    </tr>\n",
       "    <tr>\n",
       "      <th>8</th>\n",
       "      <td>2</td>\n",
       "      <td>2015-03-22 09:25:46</td>\n",
       "      <td>409</td>\n",
       "    </tr>\n",
       "    <tr>\n",
       "      <th>9</th>\n",
       "      <td>2</td>\n",
       "      <td>2015-03-22 09:25:46</td>\n",
       "      <td>384</td>\n",
       "    </tr>\n",
       "  </tbody>\n",
       "</table>\n",
       "</div>"
      ],
      "text/plain": [
       "   user_id   order_completed_at  cart\n",
       "0        2  2015-03-22 09:25:46   399\n",
       "1        2  2015-03-22 09:25:46    14\n",
       "2        2  2015-03-22 09:25:46   198\n",
       "3        2  2015-03-22 09:25:46    88\n",
       "4        2  2015-03-22 09:25:46   157\n",
       "5        2  2015-03-22 09:25:46    82\n",
       "6        2  2015-03-22 09:25:46   134\n",
       "7        2  2015-03-22 09:25:46    16\n",
       "8        2  2015-03-22 09:25:46   409\n",
       "9        2  2015-03-22 09:25:46   384"
      ]
     },
     "execution_count": 2,
     "metadata": {},
     "output_type": "execute_result"
    }
   ],
   "source": [
    "sales = pd.read_csv(PATH + 'train.csv')\n",
    "sales.head(10)"
   ]
  },
  {
   "cell_type": "code",
   "execution_count": 3,
   "metadata": {},
   "outputs": [
    {
     "data": {
      "text/plain": [
       "(3123064, 3)"
      ]
     },
     "execution_count": 3,
     "metadata": {},
     "output_type": "execute_result"
    }
   ],
   "source": [
    "sales.shape"
   ]
  },
  {
   "cell_type": "code",
   "execution_count": 4,
   "metadata": {},
   "outputs": [
    {
     "data": {
      "text/html": [
       "<div>\n",
       "<style scoped>\n",
       "    .dataframe tbody tr th:only-of-type {\n",
       "        vertical-align: middle;\n",
       "    }\n",
       "\n",
       "    .dataframe tbody tr th {\n",
       "        vertical-align: top;\n",
       "    }\n",
       "\n",
       "    .dataframe thead th {\n",
       "        text-align: right;\n",
       "    }\n",
       "</style>\n",
       "<table border=\"1\" class=\"dataframe\">\n",
       "  <thead>\n",
       "    <tr style=\"text-align: right;\">\n",
       "      <th></th>\n",
       "      <th>id</th>\n",
       "      <th>target</th>\n",
       "    </tr>\n",
       "  </thead>\n",
       "  <tbody>\n",
       "    <tr>\n",
       "      <th>0</th>\n",
       "      <td>0;133</td>\n",
       "      <td>0</td>\n",
       "    </tr>\n",
       "    <tr>\n",
       "      <th>1</th>\n",
       "      <td>0;5</td>\n",
       "      <td>1</td>\n",
       "    </tr>\n",
       "    <tr>\n",
       "      <th>2</th>\n",
       "      <td>0;10</td>\n",
       "      <td>0</td>\n",
       "    </tr>\n",
       "    <tr>\n",
       "      <th>3</th>\n",
       "      <td>0;396</td>\n",
       "      <td>1</td>\n",
       "    </tr>\n",
       "    <tr>\n",
       "      <th>4</th>\n",
       "      <td>0;14</td>\n",
       "      <td>0</td>\n",
       "    </tr>\n",
       "  </tbody>\n",
       "</table>\n",
       "</div>"
      ],
      "text/plain": [
       "      id  target\n",
       "0  0;133       0\n",
       "1    0;5       1\n",
       "2   0;10       0\n",
       "3  0;396       1\n",
       "4   0;14       0"
      ]
     },
     "execution_count": 4,
     "metadata": {},
     "output_type": "execute_result"
    }
   ],
   "source": [
    "subm = pd.read_csv(PATH + 'sample_submission.csv')\n",
    "subm.head()"
   ]
  },
  {
   "cell_type": "code",
   "execution_count": 5,
   "metadata": {},
   "outputs": [
    {
     "data": {
      "text/plain": [
       "(790449, 2)"
      ]
     },
     "execution_count": 5,
     "metadata": {},
     "output_type": "execute_result"
    }
   ],
   "source": [
    "subm.shape"
   ]
  },
  {
   "cell_type": "code",
   "execution_count": 6,
   "metadata": {},
   "outputs": [
    {
     "data": {
      "text/html": [
       "<div>\n",
       "<style scoped>\n",
       "    .dataframe tbody tr th:only-of-type {\n",
       "        vertical-align: middle;\n",
       "    }\n",
       "\n",
       "    .dataframe tbody tr th {\n",
       "        vertical-align: top;\n",
       "    }\n",
       "\n",
       "    .dataframe thead th {\n",
       "        text-align: right;\n",
       "    }\n",
       "</style>\n",
       "<table border=\"1\" class=\"dataframe\">\n",
       "  <thead>\n",
       "    <tr style=\"text-align: right;\">\n",
       "      <th></th>\n",
       "      <th>id</th>\n",
       "      <th>target</th>\n",
       "      <th>user_id</th>\n",
       "      <th>item_id</th>\n",
       "    </tr>\n",
       "  </thead>\n",
       "  <tbody>\n",
       "    <tr>\n",
       "      <th>0</th>\n",
       "      <td>0;133</td>\n",
       "      <td>0</td>\n",
       "      <td>0</td>\n",
       "      <td>133</td>\n",
       "    </tr>\n",
       "    <tr>\n",
       "      <th>1</th>\n",
       "      <td>0;5</td>\n",
       "      <td>1</td>\n",
       "      <td>0</td>\n",
       "      <td>5</td>\n",
       "    </tr>\n",
       "    <tr>\n",
       "      <th>2</th>\n",
       "      <td>0;10</td>\n",
       "      <td>0</td>\n",
       "      <td>0</td>\n",
       "      <td>10</td>\n",
       "    </tr>\n",
       "    <tr>\n",
       "      <th>3</th>\n",
       "      <td>0;396</td>\n",
       "      <td>1</td>\n",
       "      <td>0</td>\n",
       "      <td>396</td>\n",
       "    </tr>\n",
       "    <tr>\n",
       "      <th>4</th>\n",
       "      <td>0;14</td>\n",
       "      <td>0</td>\n",
       "      <td>0</td>\n",
       "      <td>14</td>\n",
       "    </tr>\n",
       "  </tbody>\n",
       "</table>\n",
       "</div>"
      ],
      "text/plain": [
       "      id  target  user_id  item_id\n",
       "0  0;133       0        0      133\n",
       "1    0;5       1        0        5\n",
       "2   0;10       0        0       10\n",
       "3  0;396       1        0      396\n",
       "4   0;14       0        0       14"
      ]
     },
     "execution_count": 6,
     "metadata": {},
     "output_type": "execute_result"
    }
   ],
   "source": [
    "subm['user_id'] = subm['id'].map(lambda x: x.split(';')[0]).astype(int)\n",
    "subm['item_id'] = subm['id'].map(lambda x: x.split(';')[1]).astype(int)\n",
    "subm.head()"
   ]
  },
  {
   "cell_type": "code",
   "execution_count": 7,
   "metadata": {},
   "outputs": [
    {
     "data": {
      "text/plain": [
       "user_id                20000\n",
       "order_completed_at    208155\n",
       "cart                     881\n",
       "dtype: int64"
      ]
     },
     "execution_count": 7,
     "metadata": {},
     "output_type": "execute_result"
    }
   ],
   "source": [
    "sales.nunique()"
   ]
  },
  {
   "cell_type": "code",
   "execution_count": 8,
   "metadata": {},
   "outputs": [
    {
     "data": {
      "text/plain": [
       "id         790449\n",
       "target          2\n",
       "user_id     13036\n",
       "item_id       858\n",
       "dtype: int64"
      ]
     },
     "execution_count": 8,
     "metadata": {},
     "output_type": "execute_result"
    }
   ],
   "source": [
    "subm.nunique()"
   ]
  },
  {
   "cell_type": "code",
   "execution_count": 9,
   "metadata": {},
   "outputs": [
    {
     "data": {
      "image/png": "[encoded data removed]",
      "text/plain": [
       "<Figure size 432x288 with 1 Axes>"
      ]
     },
     "metadata": {
      "needs_background": "light"
     },
     "output_type": "display_data"
    }
   ],
   "source": [
    "plt.subplot(1,1,1)\n",
    "sales.groupby('user_id')['order_completed_at'].nunique().hist(bins=20);\n",
    "plt.title('Количество уникальных заказов по клиентам');"
   ]
  },
  {
   "cell_type": "code",
   "execution_count": 10,
   "metadata": {},
   "outputs": [
    {
     "name": "stdout",
     "output_type": "stream",
     "text": [
      "Медианное кол-во заказов у одного клиента: 6.0\n"
     ]
    }
   ],
   "source": [
    "print(\"Медианное кол-во заказов у одного клиента:\", \\\n",
    "      sales.groupby('user_id')['order_completed_at'].nunique().median())"
   ]
  },
  {
   "cell_type": "code",
   "execution_count": 11,
   "metadata": {},
   "outputs": [
    {
     "data": {
      "image/png": "[encoded data removed]",
      "text/plain": [
       "<Figure size 432x288 with 1 Axes>"
      ]
     },
     "metadata": {
      "needs_background": "light"
     },
     "output_type": "display_data"
    }
   ],
   "source": [
    "sales.groupby(['user_id', 'order_completed_at'])['cart'].count().hist(bins=20);\n",
    "plt.title('Количество уникальных категорий в одном заказе');"
   ]
  },
  {
   "cell_type": "code",
   "execution_count": 12,
   "metadata": {},
   "outputs": [
    {
     "name": "stdout",
     "output_type": "stream",
     "text": [
      "Медианное кол-во заказов у одного клиента: 6.0\n",
      "Медианное кол-во уникальных категорий в одном заказе: 13.0\n",
      "Медианное кол-во уникальных категорий во всех заказах одного клиента: 49.0\n"
     ]
    }
   ],
   "source": [
    "print(\"Медианное кол-во заказов у одного клиента:\", \\\n",
    "      sales.groupby('user_id')['order_completed_at'].nunique().median())\n",
    "\n",
    "print(\"Медианное кол-во уникальных категорий в одном заказе:\", \\\n",
    "sales.groupby(['user_id', 'order_completed_at'])['cart'].count().median())\n",
    "\n",
    "print(\"Медианное кол-во уникальных категорий во всех заказах одного клиента:\", \\\n",
    "sales.groupby('user_id')['cart'].nunique().median())"
   ]
  },
  {
   "cell_type": "markdown",
   "metadata": {},
   "source": [
    "# Создадим новый признак: номер заказа клиента"
   ]
  },
  {
   "cell_type": "code",
   "execution_count": 13,
   "metadata": {},
   "outputs": [],
   "source": [
    "# Создаем для каждого клиента отсортированный список дат заказов от старых к новым\n",
    "order_dates = sales.groupby('user_id')['order_completed_at'].unique()\n",
    "for ind in order_dates.index:\n",
    "    order_dates.array[ind] = sorted(order_dates.array[ind], reverse=True)\n",
    "#order_dates"
   ]
  },
  {
   "cell_type": "code",
   "execution_count": 14,
   "metadata": {},
   "outputs": [],
   "source": [
    "def get_order_number(args):\n",
    "    [user, order_date] = args\n",
    "    return np.where(order_dates[int(user)] == order_date)[0][0]"
   ]
  },
  {
   "cell_type": "code",
   "execution_count": 15,
   "metadata": {},
   "outputs": [
    {
     "name": "stdout",
     "output_type": "stream",
     "text": [
      "39.6 сек.\n"
     ]
    }
   ],
   "source": [
    "# Нумеруем заказы каждого клиента в глубину (0 - последний, 1 - предпоследний и т.д.)\n",
    "tstart = time.time()\n",
    "sales['user_order'] = sales[['user_id', 'order_completed_at']].apply(get_order_number, axis=1)\n",
    "print(\"{:.1f} сек.\".format(time.time() - tstart))"
   ]
  },
  {
   "cell_type": "code",
   "execution_count": 16,
   "metadata": {},
   "outputs": [],
   "source": [
    "sales.drop('order_completed_at', axis=1, inplace=True)\n",
    "sales = sales.rename(columns={'cart': 'item_id'})\n",
    "sales['target'] = 1"
   ]
  },
  {
   "cell_type": "code",
   "execution_count": 17,
   "metadata": {},
   "outputs": [
    {
     "data": {
      "text/html": [
       "<div>\n",
       "<style scoped>\n",
       "    .dataframe tbody tr th:only-of-type {\n",
       "        vertical-align: middle;\n",
       "    }\n",
       "\n",
       "    .dataframe tbody tr th {\n",
       "        vertical-align: top;\n",
       "    }\n",
       "\n",
       "    .dataframe thead th {\n",
       "        text-align: right;\n",
       "    }\n",
       "</style>\n",
       "<table border=\"1\" class=\"dataframe\">\n",
       "  <thead>\n",
       "    <tr style=\"text-align: right;\">\n",
       "      <th></th>\n",
       "      <th>user_id</th>\n",
       "      <th>item_id</th>\n",
       "      <th>user_order</th>\n",
       "      <th>target</th>\n",
       "    </tr>\n",
       "  </thead>\n",
       "  <tbody>\n",
       "    <tr>\n",
       "      <th>0</th>\n",
       "      <td>2</td>\n",
       "      <td>399</td>\n",
       "      <td>14</td>\n",
       "      <td>1</td>\n",
       "    </tr>\n",
       "    <tr>\n",
       "      <th>1</th>\n",
       "      <td>2</td>\n",
       "      <td>14</td>\n",
       "      <td>14</td>\n",
       "      <td>1</td>\n",
       "    </tr>\n",
       "    <tr>\n",
       "      <th>2</th>\n",
       "      <td>2</td>\n",
       "      <td>198</td>\n",
       "      <td>14</td>\n",
       "      <td>1</td>\n",
       "    </tr>\n",
       "    <tr>\n",
       "      <th>3</th>\n",
       "      <td>2</td>\n",
       "      <td>88</td>\n",
       "      <td>14</td>\n",
       "      <td>1</td>\n",
       "    </tr>\n",
       "    <tr>\n",
       "      <th>4</th>\n",
       "      <td>2</td>\n",
       "      <td>157</td>\n",
       "      <td>14</td>\n",
       "      <td>1</td>\n",
       "    </tr>\n",
       "    <tr>\n",
       "      <th>...</th>\n",
       "      <td>...</td>\n",
       "      <td>...</td>\n",
       "      <td>...</td>\n",
       "      <td>...</td>\n",
       "    </tr>\n",
       "    <tr>\n",
       "      <th>3123059</th>\n",
       "      <td>12702</td>\n",
       "      <td>441</td>\n",
       "      <td>0</td>\n",
       "      <td>1</td>\n",
       "    </tr>\n",
       "    <tr>\n",
       "      <th>3123060</th>\n",
       "      <td>12702</td>\n",
       "      <td>92</td>\n",
       "      <td>0</td>\n",
       "      <td>1</td>\n",
       "    </tr>\n",
       "    <tr>\n",
       "      <th>3123061</th>\n",
       "      <td>12702</td>\n",
       "      <td>431</td>\n",
       "      <td>0</td>\n",
       "      <td>1</td>\n",
       "    </tr>\n",
       "    <tr>\n",
       "      <th>3123062</th>\n",
       "      <td>12702</td>\n",
       "      <td>24</td>\n",
       "      <td>0</td>\n",
       "      <td>1</td>\n",
       "    </tr>\n",
       "    <tr>\n",
       "      <th>3123063</th>\n",
       "      <td>12702</td>\n",
       "      <td>430</td>\n",
       "      <td>0</td>\n",
       "      <td>1</td>\n",
       "    </tr>\n",
       "  </tbody>\n",
       "</table>\n",
       "<p>3123064 rows × 4 columns</p>\n",
       "</div>"
      ],
      "text/plain": [
       "         user_id  item_id  user_order  target\n",
       "0              2      399          14       1\n",
       "1              2       14          14       1\n",
       "2              2      198          14       1\n",
       "3              2       88          14       1\n",
       "4              2      157          14       1\n",
       "...          ...      ...         ...     ...\n",
       "3123059    12702      441           0       1\n",
       "3123060    12702       92           0       1\n",
       "3123061    12702      431           0       1\n",
       "3123062    12702       24           0       1\n",
       "3123063    12702      430           0       1\n",
       "\n",
       "[3123064 rows x 4 columns]"
      ]
     },
     "execution_count": 17,
     "metadata": {},
     "output_type": "execute_result"
    }
   ],
   "source": [
    "sales"
   ]
  },
  {
   "cell_type": "markdown",
   "metadata": {},
   "source": [
    "# Предсказание по среднему, без машинного обучения"
   ]
  },
  {
   "cell_type": "code",
   "execution_count": 18,
   "metadata": {},
   "outputs": [],
   "source": [
    "# Среднее кол-во категорий в заказе каждого клиента\n",
    "user_order_size = sales.groupby(['user_id', 'user_order'])['item_id'].count().reset_index()\n",
    "user_mean_order_size = user_order_size.groupby('user_id')['item_id'].mean().round()\n",
    "\n",
    "# Категории товара, наиболее часто встречающиеся в заказе клиента\n",
    "user_items = sales.groupby('user_id')['item_id'].value_counts()"
   ]
  },
  {
   "cell_type": "code",
   "execution_count": 19,
   "metadata": {},
   "outputs": [
    {
     "name": "stderr",
     "output_type": "stream",
     "text": [
      "100%|███████████████████████████████████| 20000/20000 [01:12<00:00, 274.84it/s]\n"
     ]
    }
   ],
   "source": [
    "df_list = []\n",
    "for user in tqdm(user_mean_order_size.index):\n",
    "    items_number = int(user_mean_order_size[user])\n",
    "    pred_items = user_items[user].index[:items_number]\n",
    "    for item in pred_items:\n",
    "        df_list.append({'user_id': user, 'item_id': item, 'target': 1})"
   ]
  },
  {
   "cell_type": "code",
   "execution_count": 20,
   "metadata": {},
   "outputs": [
    {
     "data": {
      "text/html": [
       "<div>\n",
       "<style scoped>\n",
       "    .dataframe tbody tr th:only-of-type {\n",
       "        vertical-align: middle;\n",
       "    }\n",
       "\n",
       "    .dataframe tbody tr th {\n",
       "        vertical-align: top;\n",
       "    }\n",
       "\n",
       "    .dataframe thead th {\n",
       "        text-align: right;\n",
       "    }\n",
       "</style>\n",
       "<table border=\"1\" class=\"dataframe\">\n",
       "  <thead>\n",
       "    <tr style=\"text-align: right;\">\n",
       "      <th></th>\n",
       "      <th>user_id</th>\n",
       "      <th>item_id</th>\n",
       "      <th>target</th>\n",
       "    </tr>\n",
       "  </thead>\n",
       "  <tbody>\n",
       "    <tr>\n",
       "      <th>0</th>\n",
       "      <td>0</td>\n",
       "      <td>57</td>\n",
       "      <td>1</td>\n",
       "    </tr>\n",
       "    <tr>\n",
       "      <th>1</th>\n",
       "      <td>0</td>\n",
       "      <td>14</td>\n",
       "      <td>1</td>\n",
       "    </tr>\n",
       "    <tr>\n",
       "      <th>2</th>\n",
       "      <td>0</td>\n",
       "      <td>82</td>\n",
       "      <td>1</td>\n",
       "    </tr>\n",
       "    <tr>\n",
       "      <th>3</th>\n",
       "      <td>0</td>\n",
       "      <td>84</td>\n",
       "      <td>1</td>\n",
       "    </tr>\n",
       "    <tr>\n",
       "      <th>4</th>\n",
       "      <td>0</td>\n",
       "      <td>379</td>\n",
       "      <td>1</td>\n",
       "    </tr>\n",
       "    <tr>\n",
       "      <th>...</th>\n",
       "      <td>...</td>\n",
       "      <td>...</td>\n",
       "      <td>...</td>\n",
       "    </tr>\n",
       "    <tr>\n",
       "      <th>288518</th>\n",
       "      <td>19998</td>\n",
       "      <td>84</td>\n",
       "      <td>1</td>\n",
       "    </tr>\n",
       "    <tr>\n",
       "      <th>288519</th>\n",
       "      <td>19998</td>\n",
       "      <td>398</td>\n",
       "      <td>1</td>\n",
       "    </tr>\n",
       "    <tr>\n",
       "      <th>288520</th>\n",
       "      <td>19998</td>\n",
       "      <td>415</td>\n",
       "      <td>1</td>\n",
       "    </tr>\n",
       "    <tr>\n",
       "      <th>288521</th>\n",
       "      <td>19998</td>\n",
       "      <td>420</td>\n",
       "      <td>1</td>\n",
       "    </tr>\n",
       "    <tr>\n",
       "      <th>288522</th>\n",
       "      <td>19999</td>\n",
       "      <td>326</td>\n",
       "      <td>1</td>\n",
       "    </tr>\n",
       "  </tbody>\n",
       "</table>\n",
       "<p>288523 rows × 3 columns</p>\n",
       "</div>"
      ],
      "text/plain": [
       "        user_id  item_id  target\n",
       "0             0       57       1\n",
       "1             0       14       1\n",
       "2             0       82       1\n",
       "3             0       84       1\n",
       "4             0      379       1\n",
       "...         ...      ...     ...\n",
       "288518    19998       84       1\n",
       "288519    19998      398       1\n",
       "288520    19998      415       1\n",
       "288521    19998      420       1\n",
       "288522    19999      326       1\n",
       "\n",
       "[288523 rows x 3 columns]"
      ]
     },
     "execution_count": 20,
     "metadata": {},
     "output_type": "execute_result"
    }
   ],
   "source": [
    "pred_df = pd.DataFrame(df_list)\n",
    "pred_df"
   ]
  },
  {
   "cell_type": "code",
   "execution_count": 21,
   "metadata": {},
   "outputs": [],
   "source": [
    "subm_df_my = subm.copy()\n",
    "subm_df_my.drop('target', axis=1, inplace=True)\n",
    "subm_df_my = subm_df_my.merge(pred_df, on=['user_id', 'item_id'], how='left')\n",
    "subm_df_my['target'] = subm_df_my['target'].fillna(0).astype(int)\n",
    "subm_df_my.drop(['user_id', 'item_id'], axis=1, inplace=True)\n",
    "subm_df_my.to_csv(PATH + 'submission_avg.csv', index=False)"
   ]
  },
  {
   "cell_type": "markdown",
   "metadata": {},
   "source": [
    "### Public score: 0.47154"
   ]
  },
  {
   "cell_type": "markdown",
   "metadata": {},
   "source": [
    "# Создадим тестовый датафрейм и заполним его данными об истории покупок"
   ]
  },
  {
   "cell_type": "code",
   "execution_count": 22,
   "metadata": {},
   "outputs": [
    {
     "data": {
      "text/html": [
       "<div>\n",
       "<style scoped>\n",
       "    .dataframe tbody tr th:only-of-type {\n",
       "        vertical-align: middle;\n",
       "    }\n",
       "\n",
       "    .dataframe tbody tr th {\n",
       "        vertical-align: top;\n",
       "    }\n",
       "\n",
       "    .dataframe thead th {\n",
       "        text-align: right;\n",
       "    }\n",
       "</style>\n",
       "<table border=\"1\" class=\"dataframe\">\n",
       "  <thead>\n",
       "    <tr style=\"text-align: right;\">\n",
       "      <th></th>\n",
       "      <th>user_id</th>\n",
       "      <th>item_id</th>\n",
       "      <th>user_item_count</th>\n",
       "    </tr>\n",
       "  </thead>\n",
       "  <tbody>\n",
       "    <tr>\n",
       "      <th>0</th>\n",
       "      <td>0</td>\n",
       "      <td>5</td>\n",
       "      <td>1</td>\n",
       "    </tr>\n",
       "    <tr>\n",
       "      <th>1</th>\n",
       "      <td>0</td>\n",
       "      <td>10</td>\n",
       "      <td>1</td>\n",
       "    </tr>\n",
       "    <tr>\n",
       "      <th>2</th>\n",
       "      <td>0</td>\n",
       "      <td>14</td>\n",
       "      <td>2</td>\n",
       "    </tr>\n",
       "    <tr>\n",
       "      <th>3</th>\n",
       "      <td>0</td>\n",
       "      <td>20</td>\n",
       "      <td>1</td>\n",
       "    </tr>\n",
       "    <tr>\n",
       "      <th>4</th>\n",
       "      <td>0</td>\n",
       "      <td>22</td>\n",
       "      <td>1</td>\n",
       "    </tr>\n",
       "    <tr>\n",
       "      <th>...</th>\n",
       "      <td>...</td>\n",
       "      <td>...</td>\n",
       "      <td>...</td>\n",
       "    </tr>\n",
       "    <tr>\n",
       "      <th>1117595</th>\n",
       "      <td>19998</td>\n",
       "      <td>409</td>\n",
       "      <td>1</td>\n",
       "    </tr>\n",
       "    <tr>\n",
       "      <th>1117596</th>\n",
       "      <td>19998</td>\n",
       "      <td>415</td>\n",
       "      <td>2</td>\n",
       "    </tr>\n",
       "    <tr>\n",
       "      <th>1117597</th>\n",
       "      <td>19998</td>\n",
       "      <td>420</td>\n",
       "      <td>2</td>\n",
       "    </tr>\n",
       "    <tr>\n",
       "      <th>1117598</th>\n",
       "      <td>19998</td>\n",
       "      <td>798</td>\n",
       "      <td>1</td>\n",
       "    </tr>\n",
       "    <tr>\n",
       "      <th>1117599</th>\n",
       "      <td>19999</td>\n",
       "      <td>326</td>\n",
       "      <td>3</td>\n",
       "    </tr>\n",
       "  </tbody>\n",
       "</table>\n",
       "<p>1117600 rows × 3 columns</p>\n",
       "</div>"
      ],
      "text/plain": [
       "         user_id  item_id  user_item_count\n",
       "0              0        5                1\n",
       "1              0       10                1\n",
       "2              0       14                2\n",
       "3              0       20                1\n",
       "4              0       22                1\n",
       "...          ...      ...              ...\n",
       "1117595    19998      409                1\n",
       "1117596    19998      415                2\n",
       "1117597    19998      420                2\n",
       "1117598    19998      798                1\n",
       "1117599    19999      326                3\n",
       "\n",
       "[1117600 rows x 3 columns]"
      ]
     },
     "execution_count": 22,
     "metadata": {},
     "output_type": "execute_result"
    }
   ],
   "source": [
    "# Сколько раз клиент ранее заказывал данную категорию\n",
    "user_item_count = pd.DataFrame(sales.groupby(['user_id', 'item_id'])['target'].count()).reset_index(). \\\n",
    "    rename(columns={'target': 'user_item_count'})\n",
    "user_item_count"
   ]
  },
  {
   "cell_type": "code",
   "execution_count": 23,
   "metadata": {},
   "outputs": [
    {
     "data": {
      "text/html": [
       "<div>\n",
       "<style scoped>\n",
       "    .dataframe tbody tr th:only-of-type {\n",
       "        vertical-align: middle;\n",
       "    }\n",
       "\n",
       "    .dataframe tbody tr th {\n",
       "        vertical-align: top;\n",
       "    }\n",
       "\n",
       "    .dataframe thead th {\n",
       "        text-align: right;\n",
       "    }\n",
       "</style>\n",
       "<table border=\"1\" class=\"dataframe\">\n",
       "  <thead>\n",
       "    <tr style=\"text-align: right;\">\n",
       "      <th></th>\n",
       "      <th>user_id</th>\n",
       "      <th>item_id</th>\n",
       "      <th>user_item_count</th>\n",
       "      <th>distance_to_prev_order</th>\n",
       "    </tr>\n",
       "  </thead>\n",
       "  <tbody>\n",
       "    <tr>\n",
       "      <th>0</th>\n",
       "      <td>0</td>\n",
       "      <td>5</td>\n",
       "      <td>1</td>\n",
       "      <td>2</td>\n",
       "    </tr>\n",
       "    <tr>\n",
       "      <th>1</th>\n",
       "      <td>0</td>\n",
       "      <td>10</td>\n",
       "      <td>1</td>\n",
       "      <td>2</td>\n",
       "    </tr>\n",
       "    <tr>\n",
       "      <th>2</th>\n",
       "      <td>0</td>\n",
       "      <td>14</td>\n",
       "      <td>2</td>\n",
       "      <td>2</td>\n",
       "    </tr>\n",
       "    <tr>\n",
       "      <th>3</th>\n",
       "      <td>0</td>\n",
       "      <td>20</td>\n",
       "      <td>1</td>\n",
       "      <td>3</td>\n",
       "    </tr>\n",
       "    <tr>\n",
       "      <th>4</th>\n",
       "      <td>0</td>\n",
       "      <td>22</td>\n",
       "      <td>1</td>\n",
       "      <td>2</td>\n",
       "    </tr>\n",
       "    <tr>\n",
       "      <th>...</th>\n",
       "      <td>...</td>\n",
       "      <td>...</td>\n",
       "      <td>...</td>\n",
       "      <td>...</td>\n",
       "    </tr>\n",
       "    <tr>\n",
       "      <th>1117595</th>\n",
       "      <td>19998</td>\n",
       "      <td>409</td>\n",
       "      <td>1</td>\n",
       "      <td>1</td>\n",
       "    </tr>\n",
       "    <tr>\n",
       "      <th>1117596</th>\n",
       "      <td>19998</td>\n",
       "      <td>415</td>\n",
       "      <td>2</td>\n",
       "      <td>2</td>\n",
       "    </tr>\n",
       "    <tr>\n",
       "      <th>1117597</th>\n",
       "      <td>19998</td>\n",
       "      <td>420</td>\n",
       "      <td>2</td>\n",
       "      <td>2</td>\n",
       "    </tr>\n",
       "    <tr>\n",
       "      <th>1117598</th>\n",
       "      <td>19998</td>\n",
       "      <td>798</td>\n",
       "      <td>1</td>\n",
       "      <td>1</td>\n",
       "    </tr>\n",
       "    <tr>\n",
       "      <th>1117599</th>\n",
       "      <td>19999</td>\n",
       "      <td>326</td>\n",
       "      <td>3</td>\n",
       "      <td>1</td>\n",
       "    </tr>\n",
       "  </tbody>\n",
       "</table>\n",
       "<p>1117600 rows × 4 columns</p>\n",
       "</div>"
      ],
      "text/plain": [
       "         user_id  item_id  user_item_count  distance_to_prev_order\n",
       "0              0        5                1                       2\n",
       "1              0       10                1                       2\n",
       "2              0       14                2                       2\n",
       "3              0       20                1                       3\n",
       "4              0       22                1                       2\n",
       "...          ...      ...              ...                     ...\n",
       "1117595    19998      409                1                       1\n",
       "1117596    19998      415                2                       2\n",
       "1117597    19998      420                2                       2\n",
       "1117598    19998      798                1                       1\n",
       "1117599    19999      326                3                       1\n",
       "\n",
       "[1117600 rows x 4 columns]"
      ]
     },
     "execution_count": 23,
     "metadata": {},
     "output_type": "execute_result"
    }
   ],
   "source": [
    "# Сколько заказов назад клиент заказывал данную категорию\n",
    "user_item_distance = pd.DataFrame(sales.groupby(['user_id', 'item_id'])['user_order'].min()).reset_index(). \\\n",
    "    rename(columns={'user_order': 'distance_to_prev_order'})\n",
    "user_item_distance['distance_to_prev_order'] += 1\n",
    "user_item_count = user_item_count.merge(user_item_distance, on=['user_id', 'item_id'], how='outer')\n",
    "user_item_count"
   ]
  },
  {
   "cell_type": "code",
   "execution_count": 24,
   "metadata": {},
   "outputs": [
    {
     "data": {
      "text/html": [
       "<div>\n",
       "<style scoped>\n",
       "    .dataframe tbody tr th:only-of-type {\n",
       "        vertical-align: middle;\n",
       "    }\n",
       "\n",
       "    .dataframe tbody tr th {\n",
       "        vertical-align: top;\n",
       "    }\n",
       "\n",
       "    .dataframe thead th {\n",
       "        text-align: right;\n",
       "    }\n",
       "</style>\n",
       "<table border=\"1\" class=\"dataframe\">\n",
       "  <thead>\n",
       "    <tr style=\"text-align: right;\">\n",
       "      <th></th>\n",
       "      <th>user_id</th>\n",
       "      <th>orders_count</th>\n",
       "    </tr>\n",
       "  </thead>\n",
       "  <tbody>\n",
       "    <tr>\n",
       "      <th>0</th>\n",
       "      <td>0</td>\n",
       "      <td>3</td>\n",
       "    </tr>\n",
       "    <tr>\n",
       "      <th>1</th>\n",
       "      <td>1</td>\n",
       "      <td>9</td>\n",
       "    </tr>\n",
       "    <tr>\n",
       "      <th>2</th>\n",
       "      <td>2</td>\n",
       "      <td>15</td>\n",
       "    </tr>\n",
       "    <tr>\n",
       "      <th>3</th>\n",
       "      <td>3</td>\n",
       "      <td>7</td>\n",
       "    </tr>\n",
       "    <tr>\n",
       "      <th>4</th>\n",
       "      <td>4</td>\n",
       "      <td>8</td>\n",
       "    </tr>\n",
       "    <tr>\n",
       "      <th>...</th>\n",
       "      <td>...</td>\n",
       "      <td>...</td>\n",
       "    </tr>\n",
       "    <tr>\n",
       "      <th>19995</th>\n",
       "      <td>19995</td>\n",
       "      <td>3</td>\n",
       "    </tr>\n",
       "    <tr>\n",
       "      <th>19996</th>\n",
       "      <td>19996</td>\n",
       "      <td>3</td>\n",
       "    </tr>\n",
       "    <tr>\n",
       "      <th>19997</th>\n",
       "      <td>19997</td>\n",
       "      <td>3</td>\n",
       "    </tr>\n",
       "    <tr>\n",
       "      <th>19998</th>\n",
       "      <td>19998</td>\n",
       "      <td>3</td>\n",
       "    </tr>\n",
       "    <tr>\n",
       "      <th>19999</th>\n",
       "      <td>19999</td>\n",
       "      <td>3</td>\n",
       "    </tr>\n",
       "  </tbody>\n",
       "</table>\n",
       "<p>20000 rows × 2 columns</p>\n",
       "</div>"
      ],
      "text/plain": [
       "       user_id  orders_count\n",
       "0            0             3\n",
       "1            1             9\n",
       "2            2            15\n",
       "3            3             7\n",
       "4            4             8\n",
       "...        ...           ...\n",
       "19995    19995             3\n",
       "19996    19996             3\n",
       "19997    19997             3\n",
       "19998    19998             3\n",
       "19999    19999             3\n",
       "\n",
       "[20000 rows x 2 columns]"
      ]
     },
     "execution_count": 24,
     "metadata": {},
     "output_type": "execute_result"
    }
   ],
   "source": [
    "# Сколько всего заказов сделал данный клиент\n",
    "user_orders_count = pd.DataFrame(sales.groupby('user_id')['user_order'].nunique()).reset_index(). \\\n",
    "    rename(columns={'user_order': 'orders_count'})\n",
    "user_orders_count"
   ]
  },
  {
   "cell_type": "code",
   "execution_count": 25,
   "metadata": {},
   "outputs": [],
   "source": [
    "# Сколько раз все клиенты заказывали данную категорию\n",
    "#item_count = pd.DataFrame(sales.groupby('item_id')['target'].count()).reset_index(). \\\n",
    "#    rename(columns={'target': 'item_orders_count'})\n",
    "#item_count"
   ]
  },
  {
   "cell_type": "code",
   "execution_count": 26,
   "metadata": {},
   "outputs": [
    {
     "data": {
      "text/html": [
       "<div>\n",
       "<style scoped>\n",
       "    .dataframe tbody tr th:only-of-type {\n",
       "        vertical-align: middle;\n",
       "    }\n",
       "\n",
       "    .dataframe tbody tr th {\n",
       "        vertical-align: top;\n",
       "    }\n",
       "\n",
       "    .dataframe thead th {\n",
       "        text-align: right;\n",
       "    }\n",
       "</style>\n",
       "<table border=\"1\" class=\"dataframe\">\n",
       "  <thead>\n",
       "    <tr style=\"text-align: right;\">\n",
       "      <th></th>\n",
       "      <th>mean_order_size</th>\n",
       "    </tr>\n",
       "    <tr>\n",
       "      <th>user_id</th>\n",
       "      <th></th>\n",
       "    </tr>\n",
       "  </thead>\n",
       "  <tbody>\n",
       "    <tr>\n",
       "      <th>0</th>\n",
       "      <td>15.0</td>\n",
       "    </tr>\n",
       "    <tr>\n",
       "      <th>1</th>\n",
       "      <td>4.0</td>\n",
       "    </tr>\n",
       "    <tr>\n",
       "      <th>2</th>\n",
       "      <td>11.0</td>\n",
       "    </tr>\n",
       "    <tr>\n",
       "      <th>3</th>\n",
       "      <td>9.0</td>\n",
       "    </tr>\n",
       "    <tr>\n",
       "      <th>4</th>\n",
       "      <td>14.0</td>\n",
       "    </tr>\n",
       "    <tr>\n",
       "      <th>...</th>\n",
       "      <td>...</td>\n",
       "    </tr>\n",
       "    <tr>\n",
       "      <th>19995</th>\n",
       "      <td>3.0</td>\n",
       "    </tr>\n",
       "    <tr>\n",
       "      <th>19996</th>\n",
       "      <td>6.0</td>\n",
       "    </tr>\n",
       "    <tr>\n",
       "      <th>19997</th>\n",
       "      <td>14.0</td>\n",
       "    </tr>\n",
       "    <tr>\n",
       "      <th>19998</th>\n",
       "      <td>6.0</td>\n",
       "    </tr>\n",
       "    <tr>\n",
       "      <th>19999</th>\n",
       "      <td>1.0</td>\n",
       "    </tr>\n",
       "  </tbody>\n",
       "</table>\n",
       "<p>20000 rows × 1 columns</p>\n",
       "</div>"
      ],
      "text/plain": [
       "         mean_order_size\n",
       "user_id                 \n",
       "0                   15.0\n",
       "1                    4.0\n",
       "2                   11.0\n",
       "3                    9.0\n",
       "4                   14.0\n",
       "...                  ...\n",
       "19995                3.0\n",
       "19996                6.0\n",
       "19997               14.0\n",
       "19998                6.0\n",
       "19999                1.0\n",
       "\n",
       "[20000 rows x 1 columns]"
      ]
     },
     "execution_count": 26,
     "metadata": {},
     "output_type": "execute_result"
    }
   ],
   "source": [
    "# Среднее количество категорий в заказе каждого клиента\n",
    "ord_size_df = pd.DataFrame(sales.groupby('user_id')['user_order'].value_counts()). \\\n",
    "    rename(columns={'user_order': 'mean_order_size'}).reset_index()\n",
    "mean_ord_size = pd.DataFrame(round(ord_size_df.groupby('user_id')['mean_order_size'].mean()))\n",
    "mean_ord_size"
   ]
  },
  {
   "cell_type": "code",
   "execution_count": 27,
   "metadata": {},
   "outputs": [
    {
     "data": {
      "text/html": [
       "<div>\n",
       "<style scoped>\n",
       "    .dataframe tbody tr th:only-of-type {\n",
       "        vertical-align: middle;\n",
       "    }\n",
       "\n",
       "    .dataframe tbody tr th {\n",
       "        vertical-align: top;\n",
       "    }\n",
       "\n",
       "    .dataframe thead th {\n",
       "        text-align: right;\n",
       "    }\n",
       "</style>\n",
       "<table border=\"1\" class=\"dataframe\">\n",
       "  <thead>\n",
       "    <tr style=\"text-align: right;\">\n",
       "      <th></th>\n",
       "      <th>user_id</th>\n",
       "      <th>item_id</th>\n",
       "      <th>in_prev_5_orders</th>\n",
       "    </tr>\n",
       "  </thead>\n",
       "  <tbody>\n",
       "    <tr>\n",
       "      <th>0</th>\n",
       "      <td>0</td>\n",
       "      <td>5</td>\n",
       "      <td>1</td>\n",
       "    </tr>\n",
       "    <tr>\n",
       "      <th>1</th>\n",
       "      <td>0</td>\n",
       "      <td>10</td>\n",
       "      <td>1</td>\n",
       "    </tr>\n",
       "    <tr>\n",
       "      <th>2</th>\n",
       "      <td>0</td>\n",
       "      <td>14</td>\n",
       "      <td>2</td>\n",
       "    </tr>\n",
       "    <tr>\n",
       "      <th>3</th>\n",
       "      <td>0</td>\n",
       "      <td>20</td>\n",
       "      <td>1</td>\n",
       "    </tr>\n",
       "    <tr>\n",
       "      <th>4</th>\n",
       "      <td>0</td>\n",
       "      <td>22</td>\n",
       "      <td>1</td>\n",
       "    </tr>\n",
       "    <tr>\n",
       "      <th>...</th>\n",
       "      <td>...</td>\n",
       "      <td>...</td>\n",
       "      <td>...</td>\n",
       "    </tr>\n",
       "    <tr>\n",
       "      <th>785177</th>\n",
       "      <td>19998</td>\n",
       "      <td>409</td>\n",
       "      <td>1</td>\n",
       "    </tr>\n",
       "    <tr>\n",
       "      <th>785178</th>\n",
       "      <td>19998</td>\n",
       "      <td>415</td>\n",
       "      <td>2</td>\n",
       "    </tr>\n",
       "    <tr>\n",
       "      <th>785179</th>\n",
       "      <td>19998</td>\n",
       "      <td>420</td>\n",
       "      <td>2</td>\n",
       "    </tr>\n",
       "    <tr>\n",
       "      <th>785180</th>\n",
       "      <td>19998</td>\n",
       "      <td>798</td>\n",
       "      <td>1</td>\n",
       "    </tr>\n",
       "    <tr>\n",
       "      <th>785181</th>\n",
       "      <td>19999</td>\n",
       "      <td>326</td>\n",
       "      <td>3</td>\n",
       "    </tr>\n",
       "  </tbody>\n",
       "</table>\n",
       "<p>785182 rows × 3 columns</p>\n",
       "</div>"
      ],
      "text/plain": [
       "        user_id  item_id  in_prev_5_orders\n",
       "0             0        5                 1\n",
       "1             0       10                 1\n",
       "2             0       14                 2\n",
       "3             0       20                 1\n",
       "4             0       22                 1\n",
       "...         ...      ...               ...\n",
       "785177    19998      409                 1\n",
       "785178    19998      415                 2\n",
       "785179    19998      420                 2\n",
       "785180    19998      798                 1\n",
       "785181    19999      326                 3\n",
       "\n",
       "[785182 rows x 3 columns]"
      ]
     },
     "execution_count": 27,
     "metadata": {},
     "output_type": "execute_result"
    }
   ],
   "source": [
    "# Сколько раз данная категория встречалась в 5 предыдущих заказах клиента\n",
    "ord_range = [range_num for range_num in range(0, 5)]\n",
    "user_item_count_5 = pd.DataFrame(sales[sales['user_order'].isin(ord_range)].groupby(['user_id', 'item_id'])['target'].sum()). \\\n",
    "    reset_index().rename(columns={'target': 'in_prev_5_orders'})\n",
    "user_item_count_5"
   ]
  },
  {
   "cell_type": "code",
   "execution_count": 28,
   "metadata": {},
   "outputs": [],
   "source": [
    "test_data = subm.copy()\n",
    "\n",
    "test_data = test_data.merge(user_orders_count, how='left', on='user_id')\n",
    "test_data = test_data.merge(user_item_count, how='left', on=['user_id', 'item_id'])\n",
    "# test_data['user_item_freq'] = test_data['user_item_count'] / test_data['orders_count']\n",
    "# Средняя периодичность заказа клиентом данной категории\n",
    "test_data['user_item_period'] = test_data['orders_count'] / test_data['user_item_count']\n",
    "# Разница между расстоянием до предыдущего заказа данной категории и средней периодичностью ее заказа\n",
    "test_data['distance_period_delta'] = test_data['distance_to_prev_order'] - test_data['user_item_period']\n",
    "# Отношение между расстоянием до предыдущего заказа данной категории и средней периодичностью ее заказа\n",
    "test_data['distance_period_ratio'] = test_data['distance_to_prev_order'] / test_data['user_item_period']\n",
    "\n",
    "#test_data = test_data.merge(item_count, how='left', on='item_id')\n",
    "#total_orders = sales.groupby(['user_id'])['user_order'].nunique().sum()\n",
    "#test_data['item_orders_freq'] = test_data['item_orders_count'] / total_orders\n",
    "\n",
    "test_data = test_data.merge(mean_ord_size, how='left', on='user_id')\n",
    "\n",
    "test_data = test_data.merge(user_item_count_5, how='left', on=['user_id', 'item_id'])\n",
    "test_data['in_prev_5_orders'] = test_data['in_prev_5_orders'].fillna(0).astype(int)\n",
    "\n",
    "test_data.drop(['target', 'id'], axis=1, inplace=True) # , 'item_orders_count'"
   ]
  },
  {
   "cell_type": "code",
   "execution_count": 29,
   "metadata": {},
   "outputs": [
    {
     "data": {
      "text/html": [
       "<div>\n",
       "<style scoped>\n",
       "    .dataframe tbody tr th:only-of-type {\n",
       "        vertical-align: middle;\n",
       "    }\n",
       "\n",
       "    .dataframe tbody tr th {\n",
       "        vertical-align: top;\n",
       "    }\n",
       "\n",
       "    .dataframe thead th {\n",
       "        text-align: right;\n",
       "    }\n",
       "</style>\n",
       "<table border=\"1\" class=\"dataframe\">\n",
       "  <thead>\n",
       "    <tr style=\"text-align: right;\">\n",
       "      <th></th>\n",
       "      <th>user_id</th>\n",
       "      <th>item_id</th>\n",
       "      <th>orders_count</th>\n",
       "      <th>user_item_count</th>\n",
       "      <th>distance_to_prev_order</th>\n",
       "      <th>user_item_period</th>\n",
       "      <th>distance_period_delta</th>\n",
       "      <th>distance_period_ratio</th>\n",
       "      <th>mean_order_size</th>\n",
       "      <th>in_prev_5_orders</th>\n",
       "    </tr>\n",
       "  </thead>\n",
       "  <tbody>\n",
       "    <tr>\n",
       "      <th>0</th>\n",
       "      <td>0</td>\n",
       "      <td>133</td>\n",
       "      <td>3</td>\n",
       "      <td>1</td>\n",
       "      <td>2</td>\n",
       "      <td>3.0</td>\n",
       "      <td>-1.0</td>\n",
       "      <td>0.666667</td>\n",
       "      <td>15.0</td>\n",
       "      <td>1</td>\n",
       "    </tr>\n",
       "    <tr>\n",
       "      <th>1</th>\n",
       "      <td>0</td>\n",
       "      <td>5</td>\n",
       "      <td>3</td>\n",
       "      <td>1</td>\n",
       "      <td>2</td>\n",
       "      <td>3.0</td>\n",
       "      <td>-1.0</td>\n",
       "      <td>0.666667</td>\n",
       "      <td>15.0</td>\n",
       "      <td>1</td>\n",
       "    </tr>\n",
       "    <tr>\n",
       "      <th>2</th>\n",
       "      <td>0</td>\n",
       "      <td>10</td>\n",
       "      <td>3</td>\n",
       "      <td>1</td>\n",
       "      <td>2</td>\n",
       "      <td>3.0</td>\n",
       "      <td>-1.0</td>\n",
       "      <td>0.666667</td>\n",
       "      <td>15.0</td>\n",
       "      <td>1</td>\n",
       "    </tr>\n",
       "    <tr>\n",
       "      <th>3</th>\n",
       "      <td>0</td>\n",
       "      <td>396</td>\n",
       "      <td>3</td>\n",
       "      <td>1</td>\n",
       "      <td>2</td>\n",
       "      <td>3.0</td>\n",
       "      <td>-1.0</td>\n",
       "      <td>0.666667</td>\n",
       "      <td>15.0</td>\n",
       "      <td>1</td>\n",
       "    </tr>\n",
       "    <tr>\n",
       "      <th>4</th>\n",
       "      <td>0</td>\n",
       "      <td>14</td>\n",
       "      <td>3</td>\n",
       "      <td>2</td>\n",
       "      <td>2</td>\n",
       "      <td>1.5</td>\n",
       "      <td>0.5</td>\n",
       "      <td>1.333333</td>\n",
       "      <td>15.0</td>\n",
       "      <td>2</td>\n",
       "    </tr>\n",
       "    <tr>\n",
       "      <th>...</th>\n",
       "      <td>...</td>\n",
       "      <td>...</td>\n",
       "      <td>...</td>\n",
       "      <td>...</td>\n",
       "      <td>...</td>\n",
       "      <td>...</td>\n",
       "      <td>...</td>\n",
       "      <td>...</td>\n",
       "      <td>...</td>\n",
       "      <td>...</td>\n",
       "    </tr>\n",
       "    <tr>\n",
       "      <th>790444</th>\n",
       "      <td>19998</td>\n",
       "      <td>26</td>\n",
       "      <td>3</td>\n",
       "      <td>1</td>\n",
       "      <td>3</td>\n",
       "      <td>3.0</td>\n",
       "      <td>0.0</td>\n",
       "      <td>1.000000</td>\n",
       "      <td>6.0</td>\n",
       "      <td>1</td>\n",
       "    </tr>\n",
       "    <tr>\n",
       "      <th>790445</th>\n",
       "      <td>19998</td>\n",
       "      <td>31</td>\n",
       "      <td>3</td>\n",
       "      <td>1</td>\n",
       "      <td>3</td>\n",
       "      <td>3.0</td>\n",
       "      <td>0.0</td>\n",
       "      <td>1.000000</td>\n",
       "      <td>6.0</td>\n",
       "      <td>1</td>\n",
       "    </tr>\n",
       "    <tr>\n",
       "      <th>790446</th>\n",
       "      <td>19998</td>\n",
       "      <td>29</td>\n",
       "      <td>3</td>\n",
       "      <td>1</td>\n",
       "      <td>3</td>\n",
       "      <td>3.0</td>\n",
       "      <td>0.0</td>\n",
       "      <td>1.000000</td>\n",
       "      <td>6.0</td>\n",
       "      <td>1</td>\n",
       "    </tr>\n",
       "    <tr>\n",
       "      <th>790447</th>\n",
       "      <td>19998</td>\n",
       "      <td>798</td>\n",
       "      <td>3</td>\n",
       "      <td>1</td>\n",
       "      <td>1</td>\n",
       "      <td>3.0</td>\n",
       "      <td>-2.0</td>\n",
       "      <td>0.333333</td>\n",
       "      <td>6.0</td>\n",
       "      <td>1</td>\n",
       "    </tr>\n",
       "    <tr>\n",
       "      <th>790448</th>\n",
       "      <td>19998</td>\n",
       "      <td>415</td>\n",
       "      <td>3</td>\n",
       "      <td>2</td>\n",
       "      <td>2</td>\n",
       "      <td>1.5</td>\n",
       "      <td>0.5</td>\n",
       "      <td>1.333333</td>\n",
       "      <td>6.0</td>\n",
       "      <td>2</td>\n",
       "    </tr>\n",
       "  </tbody>\n",
       "</table>\n",
       "<p>790449 rows × 10 columns</p>\n",
       "</div>"
      ],
      "text/plain": [
       "        user_id  item_id  orders_count  user_item_count  \\\n",
       "0             0      133             3                1   \n",
       "1             0        5             3                1   \n",
       "2             0       10             3                1   \n",
       "3             0      396             3                1   \n",
       "4             0       14             3                2   \n",
       "...         ...      ...           ...              ...   \n",
       "790444    19998       26             3                1   \n",
       "790445    19998       31             3                1   \n",
       "790446    19998       29             3                1   \n",
       "790447    19998      798             3                1   \n",
       "790448    19998      415             3                2   \n",
       "\n",
       "        distance_to_prev_order  user_item_period  distance_period_delta  \\\n",
       "0                            2               3.0                   -1.0   \n",
       "1                            2               3.0                   -1.0   \n",
       "2                            2               3.0                   -1.0   \n",
       "3                            2               3.0                   -1.0   \n",
       "4                            2               1.5                    0.5   \n",
       "...                        ...               ...                    ...   \n",
       "790444                       3               3.0                    0.0   \n",
       "790445                       3               3.0                    0.0   \n",
       "790446                       3               3.0                    0.0   \n",
       "790447                       1               3.0                   -2.0   \n",
       "790448                       2               1.5                    0.5   \n",
       "\n",
       "        distance_period_ratio  mean_order_size  in_prev_5_orders  \n",
       "0                    0.666667             15.0                 1  \n",
       "1                    0.666667             15.0                 1  \n",
       "2                    0.666667             15.0                 1  \n",
       "3                    0.666667             15.0                 1  \n",
       "4                    1.333333             15.0                 2  \n",
       "...                       ...              ...               ...  \n",
       "790444               1.000000              6.0                 1  \n",
       "790445               1.000000              6.0                 1  \n",
       "790446               1.000000              6.0                 1  \n",
       "790447               0.333333              6.0                 1  \n",
       "790448               1.333333              6.0                 2  \n",
       "\n",
       "[790449 rows x 10 columns]"
      ]
     },
     "execution_count": 29,
     "metadata": {},
     "output_type": "execute_result"
    }
   ],
   "source": [
    "test_data"
   ]
  },
  {
   "cell_type": "markdown",
   "metadata": {},
   "source": [
    "# Аналогичным образом формируем учебный датафрейм для предыдущих 10 заказов всех клиентов"
   ]
  },
  {
   "cell_type": "code",
   "execution_count": 30,
   "metadata": {},
   "outputs": [
    {
     "name": "stderr",
     "output_type": "stream",
     "text": [
      "100%|██████████████████████████████████████████| 10/10 [00:36<00:00,  3.64s/it]\n"
     ]
    }
   ],
   "source": [
    "TRAIN_ORDERS = 10\n",
    "train_data = pd.DataFrame()\n",
    "for order in tqdm(range(1, TRAIN_ORDERS+1)):\n",
    "    subsales = sales.loc[sales['user_order'] >= order]\n",
    "    # Найдем всех клиентов, у которых был заказ с данным номером\n",
    "    users_with_order = set(sales[sales['user_order'] == order]['user_id'])\n",
    "    user_item_count = pd.DataFrame(subsales.groupby(['user_id', 'item_id'])['target'].count()).reset_index(). \\\n",
    "        rename(columns={'target': 'user_item_count'})\n",
    "    user_item_distance = pd.DataFrame(subsales.groupby(['user_id', 'item_id'])['user_order'].min()).reset_index(). \\\n",
    "        rename(columns={'user_order': 'distance_to_prev_order'})\n",
    "    user_item_distance['distance_to_prev_order'] += 1 - order\n",
    "    user_orders_count = pd.DataFrame(subsales.groupby('user_id')['user_order'].nunique()).reset_index(). \\\n",
    "        rename(columns={'user_order': 'orders_count'})\n",
    "    user_item_count = user_item_count.merge(user_item_distance, on=['user_id', 'item_id'], how='outer')\n",
    "    item_count = pd.DataFrame(subsales.groupby('item_id')['target'].count()).reset_index(). \\\n",
    "        rename(columns={'target': 'item_orders_count'})\n",
    "    ord_size_df = pd.DataFrame(subsales.groupby('user_id')['user_order'].value_counts()). \\\n",
    "        rename(columns={'user_order': 'mean_order_size'}).reset_index()\n",
    "    mean_ord_size = pd.DataFrame(round(ord_size_df.groupby('user_id')['mean_order_size'].mean()))\n",
    "    \n",
    "    ord_range = [range_num for range_num in range(order, order + 5)]\n",
    "    user_item_count_5 = pd.DataFrame(sales[sales['user_order'].isin(ord_range)].groupby(['user_id', 'item_id'])['target'].sum()). \\\n",
    "        reset_index().rename(columns={'target': 'in_prev_5_orders'})\n",
    "    \n",
    "    train_chunk = subm.copy().drop('target', axis=1)\n",
    "    train_chunk = train_chunk.merge(user_orders_count, how='left', on='user_id')\n",
    "    train_chunk = train_chunk.merge(user_item_count, how='left', on=['user_id', 'item_id'])\n",
    "    train_chunk = train_chunk.merge(user_item_count_5, how='left', on=['user_id', 'item_id'])\n",
    "    train_chunk['in_prev_5_orders'] = train_chunk['in_prev_5_orders'].fillna(0).astype(int)\n",
    "    # Возможно, у клиента ранее не было заказов\n",
    "    train_chunk['orders_count'] = train_chunk['orders_count'].fillna(0).astype(int) \n",
    "    # Возможно, клиент ранее эту категорию не заказывал\n",
    "    train_chunk['user_item_count'] = train_chunk['user_item_count'].fillna(0).astype(int) \n",
    "    #train_chunk['user_item_freq'] = train_chunk['user_item_count'] / train_chunk['orders_count']\n",
    "    train_chunk['user_item_period'] = train_chunk['orders_count'] / train_chunk['user_item_count']\n",
    "    train_chunk['distance_period_delta'] = train_chunk['distance_to_prev_order'] - train_chunk['user_item_period']\n",
    "    train_chunk['distance_period_ratio'] = train_chunk['distance_to_prev_order'] / train_chunk['user_item_period']\n",
    "\n",
    "    #train_chunk = train_chunk.merge(item_count, how='left', on='item_id')\n",
    "    \n",
    "    # Возможно, ранее никто эту категорию не заказывал\n",
    "    #train_chunk['item_orders_count'] = train_chunk['item_orders_count'].fillna(0).astype(int) \n",
    "    #total_orders = subsales.groupby(['user_id'])['user_order'].nunique().sum()\n",
    "    #train_chunk['item_orders_freq'] = train_chunk['item_orders_count'] / total_orders\n",
    "    # Для заполнения признака target\n",
    "    train_chunk = train_chunk.merge(sales[sales['user_order'] == order-1], how='left', \\\n",
    "                                    on=['user_id', 'item_id'])\n",
    "    train_chunk = train_chunk.merge(mean_ord_size, how='left', on='user_id')\n",
    "    train_chunk['target'] = train_chunk['target'].fillna(0).astype(int) \n",
    "    train_chunk.drop(['id', 'user_order'], axis=1, inplace=True) #'item_orders_count', \n",
    "    # Избавляемся от строк с несуществующими заказами\n",
    "    train_chunk = train_chunk[train_chunk['user_id'].isin(users_with_order)]\n",
    "    \n",
    "    #train_chunk[train_chunk['user_item_period'] == np.inf]['user_item_period'] = -1\n",
    "    train_chunk.loc[train_chunk['user_item_period'] == np.inf, 'user_item_period'] = -1\n",
    "    train_chunk['distance_to_prev_order'] = train_chunk['distance_to_prev_order'].fillna(-1).astype(int)\n",
    "    train_chunk['distance_period_ratio'] = train_chunk['distance_period_ratio'].fillna(-1)\n",
    "    train_chunk['distance_period_delta'] = train_chunk['distance_period_delta'].fillna(1000)\n",
    "    \n",
    "    if order == 1: # Информацию о последних заказах каждого клиента отправляем в валидационную выборку\n",
    "        valid_data = train_chunk.copy()\n",
    "    else:\n",
    "        train_data = pd.concat((train_data, train_chunk), axis=0)\n",
    "    del train_chunk\n",
    "    del subsales\n",
    "    del user_item_count\n",
    "    del user_orders_count\n",
    "    del item_count\n",
    "    \n",
    "# Проверим, что в учебной выборке не осталось Nan\n",
    "assert not sum(train_data.isna().sum().array) and not sum(valid_data.isna().sum().array)"
   ]
  },
  {
   "cell_type": "code",
   "execution_count": 31,
   "metadata": {},
   "outputs": [],
   "source": [
    "for df in [train_data, valid_data, test_data]:     \n",
    "    # Частота заказа данной категории за предыдущие 5 заказов клиента\n",
    "    df['user_item_freq_5'] = df['in_prev_5_orders'] / df['orders_count'].map(lambda x: x if x < 5 else 5)\n",
    "    # Исключаем признаки, негативно влияющие на качество модели, исходя из результатов валидации и тестовых сабмитов\n",
    "    df.drop(['distance_period_ratio', 'user_item_period', 'in_prev_5_orders', 'user_item_count'], axis=1, inplace=True) # 'item_orders_freq', "
   ]
  },
  {
   "cell_type": "code",
   "execution_count": 32,
   "metadata": {},
   "outputs": [
    {
     "data": {
      "text/html": [
       "<div>\n",
       "<style scoped>\n",
       "    .dataframe tbody tr th:only-of-type {\n",
       "        vertical-align: middle;\n",
       "    }\n",
       "\n",
       "    .dataframe tbody tr th {\n",
       "        vertical-align: top;\n",
       "    }\n",
       "\n",
       "    .dataframe thead th {\n",
       "        text-align: right;\n",
       "    }\n",
       "</style>\n",
       "<table border=\"1\" class=\"dataframe\">\n",
       "  <thead>\n",
       "    <tr style=\"text-align: right;\">\n",
       "      <th></th>\n",
       "      <th>user_id</th>\n",
       "      <th>item_id</th>\n",
       "      <th>orders_count</th>\n",
       "      <th>distance_to_prev_order</th>\n",
       "      <th>distance_period_delta</th>\n",
       "      <th>target</th>\n",
       "      <th>mean_order_size</th>\n",
       "      <th>user_item_freq_5</th>\n",
       "    </tr>\n",
       "  </thead>\n",
       "  <tbody>\n",
       "    <tr>\n",
       "      <th>0</th>\n",
       "      <td>0</td>\n",
       "      <td>133</td>\n",
       "      <td>1</td>\n",
       "      <td>-1</td>\n",
       "      <td>1000.0</td>\n",
       "      <td>1</td>\n",
       "      <td>8.0</td>\n",
       "      <td>0.0</td>\n",
       "    </tr>\n",
       "    <tr>\n",
       "      <th>1</th>\n",
       "      <td>0</td>\n",
       "      <td>5</td>\n",
       "      <td>1</td>\n",
       "      <td>-1</td>\n",
       "      <td>1000.0</td>\n",
       "      <td>1</td>\n",
       "      <td>8.0</td>\n",
       "      <td>0.0</td>\n",
       "    </tr>\n",
       "    <tr>\n",
       "      <th>2</th>\n",
       "      <td>0</td>\n",
       "      <td>10</td>\n",
       "      <td>1</td>\n",
       "      <td>-1</td>\n",
       "      <td>1000.0</td>\n",
       "      <td>1</td>\n",
       "      <td>8.0</td>\n",
       "      <td>0.0</td>\n",
       "    </tr>\n",
       "    <tr>\n",
       "      <th>3</th>\n",
       "      <td>0</td>\n",
       "      <td>396</td>\n",
       "      <td>1</td>\n",
       "      <td>-1</td>\n",
       "      <td>1000.0</td>\n",
       "      <td>1</td>\n",
       "      <td>8.0</td>\n",
       "      <td>0.0</td>\n",
       "    </tr>\n",
       "    <tr>\n",
       "      <th>4</th>\n",
       "      <td>0</td>\n",
       "      <td>14</td>\n",
       "      <td>1</td>\n",
       "      <td>1</td>\n",
       "      <td>0.0</td>\n",
       "      <td>1</td>\n",
       "      <td>8.0</td>\n",
       "      <td>1.0</td>\n",
       "    </tr>\n",
       "  </tbody>\n",
       "</table>\n",
       "</div>"
      ],
      "text/plain": [
       "   user_id  item_id  orders_count  distance_to_prev_order  \\\n",
       "0        0      133             1                      -1   \n",
       "1        0        5             1                      -1   \n",
       "2        0       10             1                      -1   \n",
       "3        0      396             1                      -1   \n",
       "4        0       14             1                       1   \n",
       "\n",
       "   distance_period_delta  target  mean_order_size  user_item_freq_5  \n",
       "0                 1000.0       1              8.0               0.0  \n",
       "1                 1000.0       1              8.0               0.0  \n",
       "2                 1000.0       1              8.0               0.0  \n",
       "3                 1000.0       1              8.0               0.0  \n",
       "4                    0.0       1              8.0               1.0  "
      ]
     },
     "execution_count": 32,
     "metadata": {},
     "output_type": "execute_result"
    }
   ],
   "source": [
    "train_data.head()"
   ]
  },
  {
   "cell_type": "code",
   "execution_count": 33,
   "metadata": {},
   "outputs": [
    {
     "data": {
      "text/html": [
       "<div>\n",
       "<style scoped>\n",
       "    .dataframe tbody tr th:only-of-type {\n",
       "        vertical-align: middle;\n",
       "    }\n",
       "\n",
       "    .dataframe tbody tr th {\n",
       "        vertical-align: top;\n",
       "    }\n",
       "\n",
       "    .dataframe thead th {\n",
       "        text-align: right;\n",
       "    }\n",
       "</style>\n",
       "<table border=\"1\" class=\"dataframe\">\n",
       "  <thead>\n",
       "    <tr style=\"text-align: right;\">\n",
       "      <th></th>\n",
       "      <th>user_id</th>\n",
       "      <th>item_id</th>\n",
       "      <th>orders_count</th>\n",
       "      <th>distance_to_prev_order</th>\n",
       "      <th>distance_period_delta</th>\n",
       "      <th>target</th>\n",
       "      <th>mean_order_size</th>\n",
       "      <th>user_item_freq_5</th>\n",
       "    </tr>\n",
       "  </thead>\n",
       "  <tbody>\n",
       "    <tr>\n",
       "      <th>0</th>\n",
       "      <td>0</td>\n",
       "      <td>133</td>\n",
       "      <td>2</td>\n",
       "      <td>1</td>\n",
       "      <td>-1.0</td>\n",
       "      <td>0</td>\n",
       "      <td>16.0</td>\n",
       "      <td>0.5</td>\n",
       "    </tr>\n",
       "    <tr>\n",
       "      <th>1</th>\n",
       "      <td>0</td>\n",
       "      <td>5</td>\n",
       "      <td>2</td>\n",
       "      <td>1</td>\n",
       "      <td>-1.0</td>\n",
       "      <td>0</td>\n",
       "      <td>16.0</td>\n",
       "      <td>0.5</td>\n",
       "    </tr>\n",
       "    <tr>\n",
       "      <th>2</th>\n",
       "      <td>0</td>\n",
       "      <td>10</td>\n",
       "      <td>2</td>\n",
       "      <td>1</td>\n",
       "      <td>-1.0</td>\n",
       "      <td>0</td>\n",
       "      <td>16.0</td>\n",
       "      <td>0.5</td>\n",
       "    </tr>\n",
       "    <tr>\n",
       "      <th>3</th>\n",
       "      <td>0</td>\n",
       "      <td>396</td>\n",
       "      <td>2</td>\n",
       "      <td>1</td>\n",
       "      <td>-1.0</td>\n",
       "      <td>0</td>\n",
       "      <td>16.0</td>\n",
       "      <td>0.5</td>\n",
       "    </tr>\n",
       "    <tr>\n",
       "      <th>4</th>\n",
       "      <td>0</td>\n",
       "      <td>14</td>\n",
       "      <td>2</td>\n",
       "      <td>1</td>\n",
       "      <td>0.0</td>\n",
       "      <td>0</td>\n",
       "      <td>16.0</td>\n",
       "      <td>1.0</td>\n",
       "    </tr>\n",
       "  </tbody>\n",
       "</table>\n",
       "</div>"
      ],
      "text/plain": [
       "   user_id  item_id  orders_count  distance_to_prev_order  \\\n",
       "0        0      133             2                       1   \n",
       "1        0        5             2                       1   \n",
       "2        0       10             2                       1   \n",
       "3        0      396             2                       1   \n",
       "4        0       14             2                       1   \n",
       "\n",
       "   distance_period_delta  target  mean_order_size  user_item_freq_5  \n",
       "0                   -1.0       0             16.0               0.5  \n",
       "1                   -1.0       0             16.0               0.5  \n",
       "2                   -1.0       0             16.0               0.5  \n",
       "3                   -1.0       0             16.0               0.5  \n",
       "4                    0.0       0             16.0               1.0  "
      ]
     },
     "execution_count": 33,
     "metadata": {},
     "output_type": "execute_result"
    }
   ],
   "source": [
    "valid_data.head()"
   ]
  },
  {
   "cell_type": "code",
   "execution_count": 34,
   "metadata": {},
   "outputs": [],
   "source": [
    "X_train = train_data.drop('target', axis=1)\n",
    "X_valid = valid_data.drop('target', axis=1)\n",
    "X_test = test_data\n",
    "\n",
    "y_train = train_data['target'].values\n",
    "y_valid = valid_data['target'].values\n",
    "\n",
    "X_all = pd.concat((X_train, X_valid), axis=0)\n",
    "y_all = np.concatenate((y_train, y_valid))"
   ]
  },
  {
   "cell_type": "code",
   "execution_count": 35,
   "metadata": {},
   "outputs": [
    {
     "data": {
      "text/plain": [
       "((5357639, 7), (790449, 7), (790449, 7), (6148088, 7))"
      ]
     },
     "execution_count": 35,
     "metadata": {},
     "output_type": "execute_result"
    }
   ],
   "source": [
    "X_train.shape, X_valid.shape, X_test.shape, X_all.shape"
   ]
  },
  {
   "cell_type": "code",
   "execution_count": 36,
   "metadata": {},
   "outputs": [
    {
     "data": {
      "text/plain": [
       "(5357639, 790449, 6148088)"
      ]
     },
     "execution_count": 36,
     "metadata": {},
     "output_type": "execute_result"
    }
   ],
   "source": [
    "len(y_train), len(y_valid), len(y_all)"
   ]
  },
  {
   "cell_type": "markdown",
   "metadata": {},
   "source": [
    "# Построим  и обучим модель"
   ]
  },
  {
   "cell_type": "code",
   "execution_count": 37,
   "metadata": {},
   "outputs": [],
   "source": [
    "cat_cols = ['user_id', 'item_id']\n",
    "cat_col_inds = [X_train.columns.get_loc(col_name) for col_name in cat_cols]"
   ]
  },
  {
   "cell_type": "code",
   "execution_count": 38,
   "metadata": {},
   "outputs": [
    {
     "data": {
      "application/vnd.jupyter.widget-view+json": {
       "model_id": "98dc84ecd2674133b7f9487d4fa3969a",
       "version_major": 2,
       "version_minor": 0
      },
      "text/plain": [
       "MetricVisualizer(layout=Layout(align_self='stretch', height='500px'))"
      ]
     },
     "metadata": {},
     "output_type": "display_data"
    },
    {
     "name": "stdout",
     "output_type": "stream",
     "text": [
      "Learning rate set to 0.5\n",
      "0:\tlearn: 0.2198665\ttest: 0.2341494\tbest: 0.2341494 (0)\ttotal: 780ms\tremaining: 2m 27s\n",
      "10:\tlearn: 0.2931530\ttest: 0.3292494\tbest: 0.3292494 (10)\ttotal: 6.6s\tremaining: 1m 47s\n",
      "20:\tlearn: 0.3028252\ttest: 0.3590227\tbest: 0.3590227 (20)\ttotal: 11.9s\tremaining: 1m 35s\n",
      "30:\tlearn: 0.3035030\ttest: 0.3635612\tbest: 0.3635612 (30)\ttotal: 17.2s\tremaining: 1m 28s\n",
      "40:\tlearn: 0.3063405\ttest: 0.3865210\tbest: 0.3865210 (40)\ttotal: 22.4s\tremaining: 1m 21s\n",
      "50:\tlearn: 0.3081292\ttest: 0.3920360\tbest: 0.3920360 (50)\ttotal: 27.7s\tremaining: 1m 15s\n",
      "60:\tlearn: 0.3087741\ttest: 0.3929904\tbest: 0.3930508 (58)\ttotal: 33.2s\tremaining: 1m 10s\n",
      "70:\tlearn: 0.3094156\ttest: 0.3941548\tbest: 0.3941915 (69)\ttotal: 38.6s\tremaining: 1m 4s\n",
      "80:\tlearn: 0.3110610\ttest: 0.4044312\tbest: 0.4044805 (78)\ttotal: 44s\tremaining: 59.2s\n",
      "90:\tlearn: 0.3113140\ttest: 0.4042636\tbest: 0.4048497 (85)\ttotal: 49.3s\tremaining: 53.7s\n",
      "100:\tlearn: 0.3115176\ttest: 0.4050031\tbest: 0.4057043 (96)\ttotal: 54.7s\tremaining: 48.2s\n",
      "110:\tlearn: 0.3121823\ttest: 0.4098138\tbest: 0.4098138 (110)\ttotal: 1m\tremaining: 42.7s\n",
      "120:\tlearn: 0.3127615\ttest: 0.4119428\tbest: 0.4120330 (119)\ttotal: 1m 5s\tremaining: 37.4s\n",
      "130:\tlearn: 0.3131845\ttest: 0.4124045\tbest: 0.4124045 (130)\ttotal: 1m 10s\tremaining: 31.9s\n",
      "140:\tlearn: 0.3134699\ttest: 0.4126257\tbest: 0.4127438 (132)\ttotal: 1m 16s\tremaining: 26.5s\n",
      "150:\tlearn: 0.3138132\ttest: 0.4127150\tbest: 0.4130285 (148)\ttotal: 1m 21s\tremaining: 21.1s\n",
      "160:\tlearn: 0.3142268\ttest: 0.4133643\tbest: 0.4138173 (156)\ttotal: 1m 27s\tremaining: 15.7s\n",
      "170:\tlearn: 0.3143758\ttest: 0.4139419\tbest: 0.4141102 (168)\ttotal: 1m 32s\tremaining: 10.3s\n",
      "180:\tlearn: 0.3145768\ttest: 0.4151345\tbest: 0.4153646 (179)\ttotal: 1m 37s\tremaining: 4.86s\n",
      "189:\tlearn: 0.3145409\ttest: 0.4146307\tbest: 0.4153646 (179)\ttotal: 1m 42s\tremaining: 0us\n",
      "\n",
      "bestTest = 0.4153646229\n",
      "bestIteration = 179\n",
      "\n",
      "Shrink model to first 180 iterations.\n"
     ]
    },
    {
     "data": {
      "text/plain": [
       "<catboost.core.CatBoostClassifier at 0x1c5bd1b4e20>"
      ]
     },
     "execution_count": 38,
     "metadata": {},
     "output_type": "execute_result"
    }
   ],
   "source": [
    "from catboost import CatBoostClassifier\n",
    "ctb = CatBoostClassifier(depth=6, iterations=190, random_seed=SEED, eval_metric='F1')\n",
    "ctb.fit(X_train, y_train, cat_features=cat_col_inds, eval_set=(X_valid, y_valid), plot=True, verbose=10)"
   ]
  },
  {
   "cell_type": "code",
   "execution_count": 39,
   "metadata": {},
   "outputs": [],
   "source": [
    "def print_feat_imp(feat_names, feat_values, n_features=0, draw_bar=True):\n",
    "    feat_imp = dict(zip(feat_names, feat_values))\n",
    "    feat_dict = sorted(feat_imp.items(), key=lambda item: item[1], reverse=True)\n",
    "    if not n_features:\n",
    "        n_features = len(feat_values)\n",
    "    { print('{}: {:.6f}'.format(k, v)) for k, v in feat_dict[:n_features] }\n",
    "    \n",
    "    if draw_bar:\n",
    "        bar = sns.barplot(y=list(map(lambda x: x[0], feat_dict))[:n_features], \\\n",
    "            x=list(map(lambda x: x[1], feat_dict))[:n_features],\n",
    "            orient='h');\n",
    "        bar.set(title='Важность признаков согласно модели')"
   ]
  },
  {
   "cell_type": "code",
   "execution_count": 40,
   "metadata": {},
   "outputs": [
    {
     "name": "stdout",
     "output_type": "stream",
     "text": [
      "distance_to_prev_order: 23.382451\n",
      "item_id: 23.056449\n",
      "distance_period_delta: 16.842238\n",
      "user_item_freq_5: 13.081465\n",
      "orders_count: 11.364414\n",
      "user_id: 9.685203\n",
      "mean_order_size: 2.587779\n"
     ]
    },
    {
     "data": {
      "image/png": "[encoded data removed]",
      "text/plain": [
       "<Figure size 432x288 with 1 Axes>"
      ]
     },
     "metadata": {
      "needs_background": "light"
     },
     "output_type": "display_data"
    }
   ],
   "source": [
    "print_feat_imp(X_train.columns, ctb.get_feature_importance())"
   ]
  },
  {
   "cell_type": "code",
   "execution_count": 41,
   "metadata": {},
   "outputs": [
    {
     "data": {
      "application/vnd.jupyter.widget-view+json": {
       "model_id": "7454c57a85f64d869deb7b437260bd2a",
       "version_major": 2,
       "version_minor": 0
      },
      "text/plain": [
       "MetricVisualizer(layout=Layout(align_self='stretch', height='500px'))"
      ]
     },
     "metadata": {},
     "output_type": "display_data"
    },
    {
     "name": "stdout",
     "output_type": "stream",
     "text": [
      "Learning rate set to 0.5\n",
      "0:\tlearn: 0.1953383\ttotal: 730ms\tremaining: 2m 17s\n",
      "10:\tlearn: 0.3217053\ttotal: 7.04s\tremaining: 1m 54s\n",
      "20:\tlearn: 0.3425275\ttotal: 12.9s\tremaining: 1m 43s\n",
      "30:\tlearn: 0.3480758\ttotal: 18.8s\tremaining: 1m 36s\n",
      "40:\tlearn: 0.3480670\ttotal: 24.8s\tremaining: 1m 30s\n",
      "50:\tlearn: 0.3488158\ttotal: 30.8s\tremaining: 1m 23s\n",
      "60:\tlearn: 0.3510584\ttotal: 36.7s\tremaining: 1m 17s\n",
      "70:\tlearn: 0.3524045\ttotal: 42.6s\tremaining: 1m 11s\n",
      "80:\tlearn: 0.3526992\ttotal: 48.6s\tremaining: 1m 5s\n",
      "90:\tlearn: 0.3538540\ttotal: 54.6s\tremaining: 59.4s\n",
      "100:\tlearn: 0.3545707\ttotal: 1m\tremaining: 53.4s\n",
      "110:\tlearn: 0.3544552\ttotal: 1m 6s\tremaining: 47.5s\n",
      "120:\tlearn: 0.3545170\ttotal: 1m 12s\tremaining: 41.4s\n",
      "130:\tlearn: 0.3552356\ttotal: 1m 18s\tremaining: 35.4s\n",
      "140:\tlearn: 0.3553682\ttotal: 1m 24s\tremaining: 29.4s\n",
      "150:\tlearn: 0.3554230\ttotal: 1m 30s\tremaining: 23.4s\n",
      "160:\tlearn: 0.3556469\ttotal: 1m 36s\tremaining: 17.4s\n",
      "170:\tlearn: 0.3563809\ttotal: 1m 42s\tremaining: 11.4s\n",
      "180:\tlearn: 0.3563858\ttotal: 1m 48s\tremaining: 5.41s\n",
      "189:\tlearn: 0.3569530\ttotal: 1m 54s\tremaining: 0us\n"
     ]
    },
    {
     "data": {
      "text/plain": [
       "<catboost.core.CatBoostClassifier at 0x1c5bd1b4e20>"
      ]
     },
     "execution_count": 41,
     "metadata": {},
     "output_type": "execute_result"
    }
   ],
   "source": [
    "ctb.fit(X_all, y_all, cat_features=cat_col_inds, plot=True, verbose=10)"
   ]
  },
  {
   "cell_type": "code",
   "execution_count": 42,
   "metadata": {},
   "outputs": [
    {
     "name": "stdout",
     "output_type": "stream",
     "text": [
      "Сумма предсказанных категорий заказов: 58719\n"
     ]
    }
   ],
   "source": [
    "y_pred_ctb = ctb.predict(X_test)\n",
    "y_pred_proba_ctb = ctb.predict_proba(X_test)\n",
    "print(\"Сумма предсказанных категорий заказов:\", sum(y_pred_ctb))"
   ]
  },
  {
   "cell_type": "code",
   "execution_count": 17,
   "metadata": {},
   "outputs": [],
   "source": [
    "#subm_df = subm.copy()\n",
    "#subm_df['target'] = y_pred_ctb\n",
    "#subm_df.drop(['user_id', 'item_id'], axis=1, inplace=True)\n",
    "#subm_df.to_csv(PATH + 'submission_ctb.csv', index=False)"
   ]
  },
  {
   "cell_type": "code",
   "execution_count": 43,
   "metadata": {},
   "outputs": [
    {
     "name": "stdout",
     "output_type": "stream",
     "text": [
      "Ожидаемая сумма предсказанных категорий заказов: 189636.0\n"
     ]
    }
   ],
   "source": [
    "# Определим суммарное среднее количество заказываемых категорий по всем клиентам из тестовой выборки\n",
    "mean_order = pd.DataFrame(pd.DataFrame(sales.groupby(['user_id', 'user_order'])['target'].sum()). \\\n",
    "    rename(columns={'target': 'mean_order'}).reset_index().groupby('user_id')['mean_order'].mean()).reset_index()\n",
    "test_users = set(subm['user_id'])\n",
    "mean_order_test = mean_order[mean_order['user_id'].isin(test_users)]\n",
    "sum_avg = mean_order_test['mean_order'].sum().round()\n",
    "print(\"Ожидаемая сумма предсказанных категорий заказов:\", sum_avg)"
   ]
  },
  {
   "cell_type": "code",
   "execution_count": 44,
   "metadata": {},
   "outputs": [],
   "source": [
    "# Отберем sum_avg пар с максимальной предсказанной вероятностью \n",
    "y_pred_proba = y_pred_proba_ctb[:, 1]\n",
    "thr = sorted(y_pred_proba, reverse=True)[int(sum_avg)]\n",
    "y_pred_modified = np.array([int(x>thr) for x in y_pred_proba])"
   ]
  },
  {
   "cell_type": "code",
   "execution_count": 45,
   "metadata": {},
   "outputs": [],
   "source": [
    "subm_df = subm.copy()\n",
    "subm_df['target'] = y_pred_modified\n",
    "subm_df.drop(['user_id', 'item_id'], axis=1, inplace=True)\n",
    "subm_df.to_csv(PATH + 'submission_ctb_balanced.csv', index=False)"
   ]
  },
  {
   "cell_type": "markdown",
   "metadata": {},
   "source": [
    "## Public score: 0.49550"
   ]
  },
  {
   "cell_type": "markdown",
   "metadata": {},
   "source": [
    "Дальнейшее повышение качества модели может быть достигнуто за счет:\n",
    "- настройки параметров модели (iterations/learning_rate, bagging_temperature, random_strength)\n",
    "- задания баланса классов (class_weights / scale_pos_weight)\n",
    "- иной схемы перехода от предсказанных вероятностей к метке класса\n",
    "- использования ансамбля моделей (несколько моделей с разными значениями параметров depth, random_seed и т.д.)"
   ]
  }
 ],
 "metadata": {
  "kernelspec": {
   "display_name": "Python 3",
   "language": "python",
   "name": "python3"
  },
  "language_info": {
   "codemirror_mode": {
    "name": "ipython",
    "version": 3
   },
   "file_extension": ".py",
   "mimetype": "text/x-python",
   "name": "python",
   "nbconvert_exporter": "python",
   "pygments_lexer": "ipython3",
   "version": "3.8.5"
  }
 },
 "nbformat": 4,
 "nbformat_minor": 4
}
